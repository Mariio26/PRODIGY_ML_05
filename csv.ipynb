{
 "cells": [
  {
   "cell_type": "code",
   "execution_count": 1,
   "id": "54a4c3b7-f123-4dda-9bbe-604bc6d593e9",
   "metadata": {},
   "outputs": [
    {
     "name": "stdout",
     "output_type": "stream",
     "text": [
      "Directory Food-5K/training/non-food does not exist.\n",
      "Directory Food-5K/validation/non-food does not exist.\n",
      "Directory Food-5K/evaluation/non-food does not exist.\n",
      "Total images found: 2500\n",
      "First 10 image files:\n",
      "['training/food/63.jpg', 'training/food/823.jpg', 'training/food/1409.jpg', 'training/food/189.jpg', 'training/food/77.jpg', 'training/food/837.jpg', 'training/food/1353.jpg', 'training/food/1435.jpg', 'training/food/1421.jpg', 'training/food/1347.jpg']\n",
      "First 10 entries in calorie_data:\n",
      "[{'filename': 'training/food/63.jpg', 'calorie': 152}, {'filename': 'training/food/823.jpg', 'calorie': 429}, {'filename': 'training/food/1409.jpg', 'calorie': 72}, {'filename': 'training/food/189.jpg', 'calorie': 213}, {'filename': 'training/food/77.jpg', 'calorie': 270}, {'filename': 'training/food/837.jpg', 'calorie': 328}, {'filename': 'training/food/1353.jpg', 'calorie': 211}, {'filename': 'training/food/1435.jpg', 'calorie': 320}, {'filename': 'training/food/1421.jpg', 'calorie': 125}, {'filename': 'training/food/1347.jpg', 'calorie': 228}]\n",
      "First few rows of calorie_df:\n",
      "                 filename  calorie\n",
      "0    training/food/63.jpg      152\n",
      "1   training/food/823.jpg      429\n",
      "2  training/food/1409.jpg       72\n",
      "3   training/food/189.jpg      213\n",
      "4    training/food/77.jpg      270\n"
     ]
    }
   ],
   "source": [
    "import os\n",
    "import pandas as pd\n",
    "import random\n",
    "\n",
    "# Define the dataset path\n",
    "dataset_path = 'Food-5K'\n",
    "\n",
    "# List all image files in training, validation, and evaluation directories including food and non-food subdirectories\n",
    "image_files = []\n",
    "\n",
    "for subset in ['training', 'validation', 'evaluation']:\n",
    "    subset_path = os.path.join(dataset_path, subset)\n",
    "    for category in ['food', 'non-food']:\n",
    "        category_path = os.path.join(subset_path, category)\n",
    "        if not os.path.exists(category_path):\n",
    "            print(f\"Directory {category_path} does not exist.\")\n",
    "            continue\n",
    "        for filename in os.listdir(category_path):\n",
    "            if filename.endswith('.jpg'):\n",
    "                image_files.append(os.path.join(subset, category, filename))\n",
    "\n",
    "# Check if we have listed the files correctly\n",
    "print(f\"Total images found: {len(image_files)}\")\n",
    "print(\"First 10 image files:\")\n",
    "print(image_files[:10])\n",
    "\n",
    "# Example function to assign random calorie values between 50 and 500\n",
    "def assign_calories(image_file):\n",
    "    return random.randint(50, 500)\n",
    "\n",
    "# Create a list of dictionaries with filenames and calorie values\n",
    "calorie_data = [{'filename': file, 'calorie': assign_calories(file)} for file in image_files]\n",
    "\n",
    "# Display the first few entries\n",
    "print(\"First 10 entries in calorie_data:\")\n",
    "print(calorie_data[:10])\n",
    "\n",
    "# Convert the list of dictionaries to a DataFrame\n",
    "calorie_df = pd.DataFrame(calorie_data)\n",
    "\n",
    "# Save the DataFrame to a CSV file\n",
    "calorie_df.to_csv('calorie_info.csv', index=False)\n",
    "\n",
    "# Display the first few rows of the DataFrame to verify\n",
    "print(\"First few rows of calorie_df:\")\n",
    "print(calorie_df.head())\n"
   ]
  },
  {
   "cell_type": "code",
   "execution_count": null,
   "id": "aa384d7d-fa9e-4ee9-948b-763de4719110",
   "metadata": {},
   "outputs": [],
   "source": []
  }
 ],
 "metadata": {
  "kernelspec": {
   "display_name": "Python 3 (ipykernel)",
   "language": "python",
   "name": "python3"
  },
  "language_info": {
   "codemirror_mode": {
    "name": "ipython",
    "version": 3
   },
   "file_extension": ".py",
   "mimetype": "text/x-python",
   "name": "python",
   "nbconvert_exporter": "python",
   "pygments_lexer": "ipython3",
   "version": "3.12.0"
  }
 },
 "nbformat": 4,
 "nbformat_minor": 5
}
